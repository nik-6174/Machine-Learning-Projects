{
 "cells": [
  {
   "cell_type": "code",
   "execution_count": 6,
   "id": "4a8651eb-b140-4b1e-8f05-80ca76fdd257",
   "metadata": {},
   "outputs": [],
   "source": [
    "import pretrainedmodels"
   ]
  },
  {
   "cell_type": "code",
   "execution_count": 8,
   "id": "dc1f0851-6bf9-417d-9ffd-a405f958232d",
   "metadata": {},
   "outputs": [],
   "source": [
    "model = pretrainedmodels.__dict__[\"resnet34\"](pretrained=None)"
   ]
  },
  {
   "cell_type": "code",
   "execution_count": null,
   "id": "4576b474-3cd9-425a-9fad-e21ed7bc601c",
   "metadata": {},
   "outputs": [],
   "source": []
  }
 ],
 "metadata": {
  "kernelspec": {
   "display_name": "Python 3 (ipykernel)",
   "language": "python",
   "name": "python3"
  },
  "language_info": {
   "codemirror_mode": {
    "name": "ipython",
    "version": 3
   },
   "file_extension": ".py",
   "mimetype": "text/x-python",
   "name": "python",
   "nbconvert_exporter": "python",
   "pygments_lexer": "ipython3",
   "version": "3.10.11"
  }
 },
 "nbformat": 4,
 "nbformat_minor": 5
}
